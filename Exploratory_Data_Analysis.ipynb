{
 "cells": [
  {
   "cell_type": "markdown",
   "metadata": {},
   "source": [
    "This notebook has two parts: \n",
    "\n",
    "1) exploratory analysis and\n",
    "\n",
    "2) building a linear regression model"
   ]
  },
  {
   "cell_type": "code",
   "execution_count": 1,
   "metadata": {},
   "outputs": [
    {
     "data": {
      "text/html": [
       "<div>\n",
       "<style scoped>\n",
       "    .dataframe tbody tr th:only-of-type {\n",
       "        vertical-align: middle;\n",
       "    }\n",
       "\n",
       "    .dataframe tbody tr th {\n",
       "        vertical-align: top;\n",
       "    }\n",
       "\n",
       "    .dataframe thead th {\n",
       "        text-align: right;\n",
       "    }\n",
       "</style>\n",
       "<table border=\"1\" class=\"dataframe\">\n",
       "  <thead>\n",
       "    <tr style=\"text-align: right;\">\n",
       "      <th></th>\n",
       "      <th>YEAR</th>\n",
       "      <th>MONTH</th>\n",
       "      <th>DAY</th>\n",
       "      <th>DAY_OF_WEEK</th>\n",
       "      <th>AIRLINE</th>\n",
       "      <th>FLIGHT_NUMBER</th>\n",
       "      <th>TAIL_NUMBER</th>\n",
       "      <th>ORIGIN_AIRPORT</th>\n",
       "      <th>DESTINATION_AIRPORT</th>\n",
       "      <th>SCHEDULED_DEPARTURE</th>\n",
       "      <th>...</th>\n",
       "      <th>ARRIVAL_TIME</th>\n",
       "      <th>ARRIVAL_DELAY</th>\n",
       "      <th>DIVERTED</th>\n",
       "      <th>CANCELLED</th>\n",
       "      <th>CANCELLATION_REASON</th>\n",
       "      <th>AIR_SYSTEM_DELAY</th>\n",
       "      <th>SECURITY_DELAY</th>\n",
       "      <th>AIRLINE_DELAY</th>\n",
       "      <th>LATE_AIRCRAFT_DELAY</th>\n",
       "      <th>WEATHER_DELAY</th>\n",
       "    </tr>\n",
       "  </thead>\n",
       "  <tbody>\n",
       "    <tr>\n",
       "      <th>0</th>\n",
       "      <td>2015</td>\n",
       "      <td>1</td>\n",
       "      <td>1</td>\n",
       "      <td>4</td>\n",
       "      <td>EV</td>\n",
       "      <td>4160</td>\n",
       "      <td>N11150</td>\n",
       "      <td>JAX</td>\n",
       "      <td>EWR</td>\n",
       "      <td>540</td>\n",
       "      <td>...</td>\n",
       "      <td>743.0</td>\n",
       "      <td>-14.0</td>\n",
       "      <td>0</td>\n",
       "      <td>0</td>\n",
       "      <td>NaN</td>\n",
       "      <td>NaN</td>\n",
       "      <td>NaN</td>\n",
       "      <td>NaN</td>\n",
       "      <td>NaN</td>\n",
       "      <td>NaN</td>\n",
       "    </tr>\n",
       "    <tr>\n",
       "      <th>1</th>\n",
       "      <td>2015</td>\n",
       "      <td>1</td>\n",
       "      <td>1</td>\n",
       "      <td>4</td>\n",
       "      <td>AA</td>\n",
       "      <td>1635</td>\n",
       "      <td>N025AA</td>\n",
       "      <td>ATL</td>\n",
       "      <td>DFW</td>\n",
       "      <td>625</td>\n",
       "      <td>...</td>\n",
       "      <td>NaN</td>\n",
       "      <td>NaN</td>\n",
       "      <td>0</td>\n",
       "      <td>1</td>\n",
       "      <td>B</td>\n",
       "      <td>NaN</td>\n",
       "      <td>NaN</td>\n",
       "      <td>NaN</td>\n",
       "      <td>NaN</td>\n",
       "      <td>NaN</td>\n",
       "    </tr>\n",
       "    <tr>\n",
       "      <th>2</th>\n",
       "      <td>2015</td>\n",
       "      <td>1</td>\n",
       "      <td>1</td>\n",
       "      <td>4</td>\n",
       "      <td>WN</td>\n",
       "      <td>119</td>\n",
       "      <td>N271LV</td>\n",
       "      <td>RSW</td>\n",
       "      <td>ATL</td>\n",
       "      <td>800</td>\n",
       "      <td>...</td>\n",
       "      <td>934.0</td>\n",
       "      <td>-11.0</td>\n",
       "      <td>0</td>\n",
       "      <td>0</td>\n",
       "      <td>NaN</td>\n",
       "      <td>NaN</td>\n",
       "      <td>NaN</td>\n",
       "      <td>NaN</td>\n",
       "      <td>NaN</td>\n",
       "      <td>NaN</td>\n",
       "    </tr>\n",
       "    <tr>\n",
       "      <th>3</th>\n",
       "      <td>2015</td>\n",
       "      <td>1</td>\n",
       "      <td>1</td>\n",
       "      <td>4</td>\n",
       "      <td>EV</td>\n",
       "      <td>4936</td>\n",
       "      <td>N738EV</td>\n",
       "      <td>MSP</td>\n",
       "      <td>IAD</td>\n",
       "      <td>900</td>\n",
       "      <td>...</td>\n",
       "      <td>1240.0</td>\n",
       "      <td>12.0</td>\n",
       "      <td>0</td>\n",
       "      <td>0</td>\n",
       "      <td>NaN</td>\n",
       "      <td>NaN</td>\n",
       "      <td>NaN</td>\n",
       "      <td>NaN</td>\n",
       "      <td>NaN</td>\n",
       "      <td>NaN</td>\n",
       "    </tr>\n",
       "    <tr>\n",
       "      <th>4</th>\n",
       "      <td>2015</td>\n",
       "      <td>1</td>\n",
       "      <td>1</td>\n",
       "      <td>4</td>\n",
       "      <td>DL</td>\n",
       "      <td>2319</td>\n",
       "      <td>N960DL</td>\n",
       "      <td>LGA</td>\n",
       "      <td>MSP</td>\n",
       "      <td>1010</td>\n",
       "      <td>...</td>\n",
       "      <td>1225.0</td>\n",
       "      <td>-5.0</td>\n",
       "      <td>0</td>\n",
       "      <td>0</td>\n",
       "      <td>NaN</td>\n",
       "      <td>NaN</td>\n",
       "      <td>NaN</td>\n",
       "      <td>NaN</td>\n",
       "      <td>NaN</td>\n",
       "      <td>NaN</td>\n",
       "    </tr>\n",
       "  </tbody>\n",
       "</table>\n",
       "<p>5 rows × 31 columns</p>\n",
       "</div>"
      ],
      "text/plain": [
       "   YEAR  MONTH  DAY  DAY_OF_WEEK AIRLINE  FLIGHT_NUMBER TAIL_NUMBER  \\\n",
       "0  2015      1    1            4      EV           4160      N11150   \n",
       "1  2015      1    1            4      AA           1635      N025AA   \n",
       "2  2015      1    1            4      WN            119      N271LV   \n",
       "3  2015      1    1            4      EV           4936      N738EV   \n",
       "4  2015      1    1            4      DL           2319      N960DL   \n",
       "\n",
       "  ORIGIN_AIRPORT DESTINATION_AIRPORT  SCHEDULED_DEPARTURE  ...  ARRIVAL_TIME  \\\n",
       "0            JAX                 EWR                  540  ...         743.0   \n",
       "1            ATL                 DFW                  625  ...           NaN   \n",
       "2            RSW                 ATL                  800  ...         934.0   \n",
       "3            MSP                 IAD                  900  ...        1240.0   \n",
       "4            LGA                 MSP                 1010  ...        1225.0   \n",
       "\n",
       "   ARRIVAL_DELAY  DIVERTED  CANCELLED  CANCELLATION_REASON  AIR_SYSTEM_DELAY  \\\n",
       "0          -14.0         0          0                  NaN               NaN   \n",
       "1            NaN         0          1                    B               NaN   \n",
       "2          -11.0         0          0                  NaN               NaN   \n",
       "3           12.0         0          0                  NaN               NaN   \n",
       "4           -5.0         0          0                  NaN               NaN   \n",
       "\n",
       "   SECURITY_DELAY  AIRLINE_DELAY  LATE_AIRCRAFT_DELAY  WEATHER_DELAY  \n",
       "0             NaN            NaN                  NaN            NaN  \n",
       "1             NaN            NaN                  NaN            NaN  \n",
       "2             NaN            NaN                  NaN            NaN  \n",
       "3             NaN            NaN                  NaN            NaN  \n",
       "4             NaN            NaN                  NaN            NaN  \n",
       "\n",
       "[5 rows x 31 columns]"
      ]
     },
     "execution_count": 1,
     "metadata": {},
     "output_type": "execute_result"
    }
   ],
   "source": [
    "import pandas as pd\n",
    "import numpy as np\n",
    "import matplotlib.pyplot as plt\n",
    "import seaborn as sns\n",
    "from numpy import NaN, nan\n",
    "\n",
    "FlightData = pd.read_csv(\"flights.csv\")\n",
    "FlightData.head()"
   ]
  },
  {
   "cell_type": "markdown",
   "metadata": {},
   "source": [
    "### Part 1: Exploratory Analysis"
   ]
  },
  {
   "cell_type": "markdown",
   "metadata": {},
   "source": [
    "#### 1. How many observations are there? How many features are there?"
   ]
  },
  {
   "cell_type": "code",
   "execution_count": 2,
   "metadata": {},
   "outputs": [
    {
     "name": "stdout",
     "output_type": "stream",
     "text": [
      "Number of Observations(Rows) are:  5821\n",
      "Number of Features(Columns) are:  31\n"
     ]
    }
   ],
   "source": [
    "print(\"Number of Observations(Rows) are: \",FlightData.shape[0])\n",
    "print(\"Number of Features(Columns) are: \",FlightData.shape[1])"
   ]
  },
  {
   "cell_type": "markdown",
   "metadata": {},
   "source": [
    "#### 2. How many different airlines are there? What are their counts?"
   ]
  },
  {
   "cell_type": "code",
   "execution_count": 3,
   "metadata": {},
   "outputs": [
    {
     "name": "stdout",
     "output_type": "stream",
     "text": [
      "Number of different Airlines: 14\n",
      "Airline Count\n",
      "WN    1285\n",
      "DL     922\n",
      "AA     722\n",
      "OO     593\n",
      "EV     563\n",
      "UA     512\n",
      "MQ     288\n",
      "B6     263\n",
      "US     212\n",
      "AS     145\n",
      "NK     119\n",
      "F9      74\n",
      "VX      66\n",
      "HA      57\n",
      "Name: AIRLINE, dtype: int64\n"
     ]
    }
   ],
   "source": [
    "print (\"Number of different Airlines:\",FlightData['AIRLINE'].nunique() )\n",
    "print (\"Airline Count\",FlightData['AIRLINE'].value_counts(), sep='\\n')"
   ]
  },
  {
   "cell_type": "markdown",
   "metadata": {},
   "source": [
    "#### 3. How many missing values are there in the departure delays? How about arrival delays? \n",
    "####     Do they match? Why or why not? Remove these observations afterwards."
   ]
  },
  {
   "cell_type": "code",
   "execution_count": 4,
   "metadata": {},
   "outputs": [
    {
     "name": "stdout",
     "output_type": "stream",
     "text": [
      "Missing values of Departure Delays are: 91\n",
      "Missing values of Arrival Delays are: 108\n",
      "Do they match?: False\n"
     ]
    }
   ],
   "source": [
    "# sum of null values in departure delay \n",
    "Dep_Delay = FlightData['DEPARTURE_DELAY'].isnull().sum()\n",
    "print(\"Missing values of Departure Delays are:\",Dep_Delay)\n",
    "\n",
    "# sum of null values in arrival delay \n",
    "Arvl_Delay=FlightData['ARRIVAL_DELAY'].isnull().sum()\n",
    "print(\"Missing values of Arrival Delays are:\",Arvl_Delay)\n",
    "\n",
    "# check (boolean) if both numbers are same\n",
    "print(\"Do they match?:\", Arvl_Delay == Dep_Delay)"
   ]
  },
  {
   "cell_type": "code",
   "execution_count": 5,
   "metadata": {},
   "outputs": [
    {
     "data": {
      "text/html": [
       "<div>\n",
       "<style scoped>\n",
       "    .dataframe tbody tr th:only-of-type {\n",
       "        vertical-align: middle;\n",
       "    }\n",
       "\n",
       "    .dataframe tbody tr th {\n",
       "        vertical-align: top;\n",
       "    }\n",
       "\n",
       "    .dataframe thead th {\n",
       "        text-align: right;\n",
       "    }\n",
       "</style>\n",
       "<table border=\"1\" class=\"dataframe\">\n",
       "  <thead>\n",
       "    <tr style=\"text-align: right;\">\n",
       "      <th></th>\n",
       "      <th>SCHEDULED_DEPARTURE</th>\n",
       "      <th>DEPARTURE_TIME</th>\n",
       "      <th>DEPARTURE_DELAY</th>\n",
       "      <th>SCHEDULED_ARRIVAL</th>\n",
       "      <th>ARRIVAL_TIME</th>\n",
       "      <th>ARRIVAL_TIME</th>\n",
       "    </tr>\n",
       "  </thead>\n",
       "  <tbody>\n",
       "    <tr>\n",
       "      <th>1</th>\n",
       "      <td>625</td>\n",
       "      <td>NaN</td>\n",
       "      <td>NaN</td>\n",
       "      <td>755</td>\n",
       "      <td>NaN</td>\n",
       "      <td>NaN</td>\n",
       "    </tr>\n",
       "    <tr>\n",
       "      <th>10</th>\n",
       "      <td>1631</td>\n",
       "      <td>NaN</td>\n",
       "      <td>NaN</td>\n",
       "      <td>1815</td>\n",
       "      <td>NaN</td>\n",
       "      <td>NaN</td>\n",
       "    </tr>\n",
       "    <tr>\n",
       "      <th>47</th>\n",
       "      <td>1655</td>\n",
       "      <td>NaN</td>\n",
       "      <td>NaN</td>\n",
       "      <td>1748</td>\n",
       "      <td>NaN</td>\n",
       "      <td>NaN</td>\n",
       "    </tr>\n",
       "    <tr>\n",
       "      <th>115</th>\n",
       "      <td>1315</td>\n",
       "      <td>NaN</td>\n",
       "      <td>NaN</td>\n",
       "      <td>1450</td>\n",
       "      <td>NaN</td>\n",
       "      <td>NaN</td>\n",
       "    </tr>\n",
       "    <tr>\n",
       "      <th>116</th>\n",
       "      <td>1436</td>\n",
       "      <td>NaN</td>\n",
       "      <td>NaN</td>\n",
       "      <td>1535</td>\n",
       "      <td>NaN</td>\n",
       "      <td>NaN</td>\n",
       "    </tr>\n",
       "  </tbody>\n",
       "</table>\n",
       "</div>"
      ],
      "text/plain": [
       "     SCHEDULED_DEPARTURE  DEPARTURE_TIME  DEPARTURE_DELAY  SCHEDULED_ARRIVAL  \\\n",
       "1                    625             NaN              NaN                755   \n",
       "10                  1631             NaN              NaN               1815   \n",
       "47                  1655             NaN              NaN               1748   \n",
       "115                 1315             NaN              NaN               1450   \n",
       "116                 1436             NaN              NaN               1535   \n",
       "\n",
       "     ARRIVAL_TIME  ARRIVAL_TIME  \n",
       "1             NaN           NaN  \n",
       "10            NaN           NaN  \n",
       "47            NaN           NaN  \n",
       "115           NaN           NaN  \n",
       "116           NaN           NaN  "
      ]
     },
     "execution_count": 5,
     "metadata": {},
     "output_type": "execute_result"
    }
   ],
   "source": [
    "# find why observations don't match\n",
    "FlightData[np.isnan(FlightData.ARRIVAL_DELAY)][['SCHEDULED_DEPARTURE','DEPARTURE_TIME','DEPARTURE_DELAY',\n",
    "                                                'SCHEDULED_ARRIVAL','ARRIVAL_TIME','ARRIVAL_TIME']].head()\n"
   ]
  },
  {
   "cell_type": "code",
   "execution_count": 6,
   "metadata": {},
   "outputs": [
    {
     "name": "stdout",
     "output_type": "stream",
     "text": [
      "Missing values of Departure time are: 91\n",
      "Missing values of Arrival time are: 94\n"
     ]
    }
   ],
   "source": [
    "Dep_time = FlightData['DEPARTURE_TIME'].isnull().sum()\n",
    "print(\"Missing values of Departure time are:\",Dep_time)\n",
    "\n",
    "Arr_time = FlightData['ARRIVAL_TIME'].isnull().sum()\n",
    "print(\"Missing values of Arrival time are:\",Arr_time)\n"
   ]
  },
  {
   "cell_type": "markdown",
   "metadata": {},
   "source": [
    "Observation: Missing values dont match because:\n",
    "\n",
    "Departure Delay and Arrival delay are calculated based on recorded actual time & scheduled time respectively, i.e. \n",
    "Departure Delay = Departure time - Scheduled Departure  \n",
    "\n",
    "Since, data is not recorded for Departure time (91) & Arrival time (94), there are missing values for Departure Delay and Arrival delay.  \n",
    "\n",
    "Remaining 14 records for arrival delay (108-94 = 14), have missing values which are not calculated even though there are records for Arrival time and Arrival Departure due to reasons that can be explored further. \n",
    "\n"
   ]
  },
  {
   "cell_type": "code",
   "execution_count": 7,
   "metadata": {},
   "outputs": [
    {
     "name": "stdout",
     "output_type": "stream",
     "text": [
      "New number of Observations(Rows) removing missing values are:  5713\n"
     ]
    }
   ],
   "source": [
    "# remove observations with nan for departure and arrival delay\n",
    "FlightData.dropna(subset=['DEPARTURE_DELAY', 'ARRIVAL_DELAY'],inplace = True)\n",
    "print(\"New number of Observations(Rows) removing missing values are: \",FlightData.shape[0])"
   ]
  },
  {
   "cell_type": "markdown",
   "metadata": {},
   "source": [
    "#### 4. What is the average and median departure and arrival delay? What do you observe?"
   ]
  },
  {
   "cell_type": "code",
   "execution_count": 8,
   "metadata": {},
   "outputs": [
    {
     "name": "stdout",
     "output_type": "stream",
     "text": [
      "Average Departure delay is  8.886574479257833 and Median Departure delay is -2.0\n",
      "Average Arrival delay is  3.9882723612812883 and Median Arrival delay is -5.0\n"
     ]
    }
   ],
   "source": [
    "# data.mean() and data.median()\n",
    "print('Average Departure delay is ',FlightData['DEPARTURE_DELAY'].mean(), 'and Median Departure delay is',FlightData['DEPARTURE_DELAY'].median())\n",
    "print('Average Arrival delay is ',FlightData['ARRIVAL_DELAY'].mean(), 'and Median Arrival delay is',FlightData['ARRIVAL_DELAY'].median())\n"
   ]
  },
  {
   "cell_type": "markdown",
   "metadata": {},
   "source": [
    "Observation: \n",
    "Mean and median gives a centre of distribution of data and they are different for this dataset. It is observed that on an average departure delays are around 9 minutes. However, arrival delays on an average are less and almost 4 mintues.\n",
    "Also, median values reflect that flights actually depart and arrive early, approximately 2 & 5 minutes respectively. However, no conclusion can be drawn yet from mean or median values without diagnosis."
   ]
  },
  {
   "cell_type": "markdown",
   "metadata": {},
   "source": [
    "#### 5. Display graphically the departure delays and arrival delays for each airline. What do you notice? Explain."
   ]
  },
  {
   "cell_type": "code",
   "execution_count": 9,
   "metadata": {},
   "outputs": [
    {
     "data": {
      "image/png": "[encoded data removed]",
      "text/plain": [
       "<Figure size 720x504 with 1 Axes>"
      ]
     },
     "metadata": {
      "needs_background": "light"
     },
     "output_type": "display_data"
    }
   ],
   "source": [
    "# Departure Delay vs Airline\n",
    "fig = plt.figure(1, figsize=(10,7))\n",
    "ax1 = sns.barplot(x=\"AIRLINE\", y=\"DEPARTURE_DELAY\", data=FlightData , color=\"lightgreen\")\n",
    "plt.xlabel(\"AIRLINE\")\n",
    "plt.ylabel(\"Avg DEPARTURE DELAY\")\n",
    "plt.title(\"Bar Graph of Departure Delay vs Airline\")\n",
    "plt.show()"
   ]
  },
  {
   "cell_type": "code",
   "execution_count": 10,
   "metadata": {},
   "outputs": [
    {
     "data": {
      "image/png": "[encoded data removed]",
      "text/plain": [
       "<Figure size 720x504 with 1 Axes>"
      ]
     },
     "metadata": {
      "needs_background": "light"
     },
     "output_type": "display_data"
    }
   ],
   "source": [
    "# Arrival Delay vs Airline\n",
    "fig = plt.figure(1, figsize=(10,7))\n",
    "ax2 = sns.barplot(x=\"AIRLINE\", y=\"ARRIVAL_DELAY\", data=FlightData, color=\"salmon\" )\n",
    "plt.xlabel(\"AIRLINE\")\n",
    "plt.ylabel(\"Avg ARRIVAL DELAY\")\n",
    "plt.title(\"Bar Graph of Arrival Delay vs Airline\")\n",
    "plt.show()"
   ]
  },
  {
   "cell_type": "code",
   "execution_count": 11,
   "metadata": {},
   "outputs": [
    {
     "data": {
      "image/png": "[encoded data removed]",
      "text/plain": [
       "<Figure size 720x504 with 1 Axes>"
      ]
     },
     "metadata": {
      "needs_background": "light"
     },
     "output_type": "display_data"
    }
   ],
   "source": [
    "# superimposing both graphs to see difference\n",
    "fig = plt.figure(1, figsize=(10,7))\n",
    "labels = ['green','hatch']\n",
    "ax3 = sns.barplot(y=\"DEPARTURE_DELAY\", x=\"AIRLINE\", data=FlightData, color=\"lightgreen\")\n",
    "ax3 = sns.barplot(y=\"ARRIVAL_DELAY\", x=\"AIRLINE\", data=FlightData, color=\"salmon\", hatch = '////',alpha = 0.5)\n",
    "\n",
    "plt.xlabel(\"AIRLINE\")\n",
    "plt.ylabel(\"Avg ARRIVAL & DEPARTURE DELAY\")\n",
    "plt.title(\"Bar Graph of Superimposed Arrival & Departure Delay Airline\")\n",
    "plt.show()"
   ]
  },
  {
   "cell_type": "markdown",
   "metadata": {},
   "source": [
    "Observation: \n",
    "It is observed through superimposed graph that departure delays are higher than arrival delays. One can assume that airlines probably increase speed to minimize delays. "
   ]
  },
  {
   "cell_type": "markdown",
   "metadata": {},
   "source": [
    "#### 6. Now calculate the 5 number summary (min, Q1, median, Q3, max) of departure delay for each airline. Arrange it by median delay (descending order). Do the same for arrival delay."
   ]
  },
  {
   "cell_type": "code",
   "execution_count": 12,
   "metadata": {},
   "outputs": [
    {
     "name": "stdout",
     "output_type": "stream",
     "text": [
      "Departure Delay\n",
      "           max    75%  50%  25%   min\n",
      "AIRLINE                              \n",
      "UA       332.0  14.00  1.5 -3.0 -12.0\n",
      "WN       224.0  10.00  0.0 -3.0 -10.0\n",
      "B6       330.0  11.00 -1.0 -5.0 -18.0\n",
      "VX       230.0   3.25 -1.5 -4.0  -9.0\n",
      "AA       289.0   7.00 -2.0 -5.0 -14.0\n",
      "DL       419.0   3.00 -2.0 -4.0 -14.0\n",
      "NK       353.0  20.00 -2.0 -6.0 -14.0\n",
      "EV       382.0   4.00 -3.0 -6.0 -15.0\n",
      "HA       202.0   1.00 -3.0 -6.0 -12.0\n",
      "MQ       311.0   6.00 -3.0 -5.0 -13.0\n",
      "OO       306.0   2.00 -3.0 -7.0 -23.0\n",
      "US       345.0   2.75 -3.0 -5.0 -11.0\n",
      "AS       186.0   2.00 -4.0 -8.0 -27.0\n",
      "F9       650.0   4.00 -4.0 -7.0 -15.0\n",
      "Arrival Delay\n",
      "           max    75%  50%    25%   min\n",
      "AIRLINE                                \n",
      "F9       644.0  15.00  1.0  -9.00 -25.0\n",
      "HA       194.0  10.00 -1.0  -5.00 -29.0\n",
      "NK       354.0  23.00 -2.0 -10.75 -36.0\n",
      "OO       304.0   8.00 -3.0 -12.00 -42.0\n",
      "EV       386.0   8.00 -4.0 -12.00 -36.0\n",
      "US       334.0  11.00 -4.0 -13.00 -42.0\n",
      "WN       273.0   8.00 -4.0 -12.00 -53.0\n",
      "B6       339.0  14.00 -5.0 -15.00 -45.0\n",
      "UA       337.0  10.00 -5.5 -15.00 -53.0\n",
      "AA       268.0   7.75 -6.0 -15.00 -46.0\n",
      "AS       183.0   2.00 -6.0 -14.00 -38.0\n",
      "VX       233.0   5.25 -6.0 -15.00 -32.0\n",
      "MQ       292.0   8.00 -7.0 -14.00 -44.0\n",
      "DL       412.0   3.00 -8.0 -15.00 -55.0\n"
     ]
    }
   ],
   "source": [
    "# describe to print 5 number summary\n",
    "# descending order of median = 50%\n",
    "Dep_Delay = FlightData.groupby('AIRLINE')['DEPARTURE_DELAY'].describe()[['max', '75%','50%','25%', 'min']]\n",
    "print(\"Departure Delay\",Dep_Delay.sort_values(by='50%',ascending=False), sep='\\n')\n",
    "\n",
    "Arvl_Delay = FlightData.groupby('AIRLINE')['ARRIVAL_DELAY'].describe()[['max', '75%','50%','25%', 'min']]\n",
    "print(\"Arrival Delay\",Arvl_Delay.sort_values(by='50%',ascending=False), sep='\\n')\n"
   ]
  },
  {
   "cell_type": "markdown",
   "metadata": {},
   "source": [
    "#### 7. Which airport has the most averaged departure delay? Give me the top 10 airports. Why do you think the number 1 airport has that much delay?"
   ]
  },
  {
   "cell_type": "code",
   "execution_count": 13,
   "metadata": {},
   "outputs": [
    {
     "name": "stdout",
     "output_type": "stream",
     "text": [
      "ORIGIN_AIRPORT\n",
      "FAR      161.000000\n",
      "12898    119.000000\n",
      "BMI      101.333333\n",
      "ERI       92.000000\n",
      "14696     88.000000\n",
      "MYR       88.000000\n",
      "14576     88.000000\n",
      "10157     87.500000\n",
      "12992     80.000000\n",
      "12206     67.500000\n",
      "Name: DEPARTURE_DELAY, dtype: float64\n"
     ]
    }
   ],
   "source": [
    "Avg_dep_delay = FlightData.groupby('ORIGIN_AIRPORT')['DEPARTURE_DELAY'].mean().sort_values(ascending=False)\n",
    "print(Avg_dep_delay.head(10))"
   ]
  },
  {
   "cell_type": "code",
   "execution_count": 14,
   "metadata": {},
   "outputs": [
    {
     "data": {
      "text/html": [
       "<div>\n",
       "<style scoped>\n",
       "    .dataframe tbody tr th:only-of-type {\n",
       "        vertical-align: middle;\n",
       "    }\n",
       "\n",
       "    .dataframe tbody tr th {\n",
       "        vertical-align: top;\n",
       "    }\n",
       "\n",
       "    .dataframe thead th {\n",
       "        text-align: right;\n",
       "    }\n",
       "</style>\n",
       "<table border=\"1\" class=\"dataframe\">\n",
       "  <thead>\n",
       "    <tr style=\"text-align: right;\">\n",
       "      <th></th>\n",
       "      <th>DEPARTURE_DELAY</th>\n",
       "      <th>ARRIVAL_DELAY</th>\n",
       "      <th>DIVERTED</th>\n",
       "      <th>CANCELLED</th>\n",
       "      <th>CANCELLATION_REASON</th>\n",
       "      <th>AIR_SYSTEM_DELAY</th>\n",
       "      <th>SECURITY_DELAY</th>\n",
       "      <th>AIRLINE_DELAY</th>\n",
       "      <th>LATE_AIRCRAFT_DELAY</th>\n",
       "      <th>WEATHER_DELAY</th>\n",
       "      <th>AIR_TIME</th>\n",
       "      <th>DISTANCE</th>\n",
       "    </tr>\n",
       "  </thead>\n",
       "  <tbody>\n",
       "    <tr>\n",
       "      <th>2991</th>\n",
       "      <td>161.0</td>\n",
       "      <td>175.0</td>\n",
       "      <td>0</td>\n",
       "      <td>0</td>\n",
       "      <td>NaN</td>\n",
       "      <td>100.0</td>\n",
       "      <td>0.0</td>\n",
       "      <td>0.0</td>\n",
       "      <td>75.0</td>\n",
       "      <td>0.0</td>\n",
       "      <td>88.0</td>\n",
       "      <td>557</td>\n",
       "    </tr>\n",
       "  </tbody>\n",
       "</table>\n",
       "</div>"
      ],
      "text/plain": [
       "      DEPARTURE_DELAY  ARRIVAL_DELAY  DIVERTED  CANCELLED CANCELLATION_REASON  \\\n",
       "2991            161.0          175.0         0          0                 NaN   \n",
       "\n",
       "      AIR_SYSTEM_DELAY  SECURITY_DELAY  AIRLINE_DELAY  LATE_AIRCRAFT_DELAY  \\\n",
       "2991             100.0             0.0            0.0                 75.0   \n",
       "\n",
       "      WEATHER_DELAY  AIR_TIME  DISTANCE  \n",
       "2991            0.0      88.0       557  "
      ]
     },
     "execution_count": 14,
     "metadata": {},
     "output_type": "execute_result"
    }
   ],
   "source": [
    "# find cause by count of various delay reasons at FAR\n",
    "FlightData[FlightData['ORIGIN_AIRPORT']=='FAR'][['DEPARTURE_DELAY',\n",
    "       'ARRIVAL_DELAY', 'DIVERTED', 'CANCELLED', 'CANCELLATION_REASON',\n",
    "       'AIR_SYSTEM_DELAY', 'SECURITY_DELAY', 'AIRLINE_DELAY',\n",
    "       'LATE_AIRCRAFT_DELAY', 'WEATHER_DELAY','AIR_TIME', 'DISTANCE']]"
   ]
  },
  {
   "cell_type": "markdown",
   "metadata": {},
   "source": [
    "Observation: 'FAR' origin airport has highest average departure delay. But there is only one observation for this airport with departure delay of 175 min and arrival delay of 161 min. The flight was not diverted or cancelled but the flight was delayed due to air system delay of 100 min and aircraft delay of 75 min."
   ]
  },
  {
   "cell_type": "markdown",
   "metadata": {},
   "source": [
    "#### 8. Do you expect the departure delay has anything to do with distance of trip? What about arrival delay and distance? Prove your claims."
   ]
  },
  {
   "cell_type": "code",
   "execution_count": 15,
   "metadata": {},
   "outputs": [
    {
     "data": {
      "text/html": [
       "<div>\n",
       "<style scoped>\n",
       "    .dataframe tbody tr th:only-of-type {\n",
       "        vertical-align: middle;\n",
       "    }\n",
       "\n",
       "    .dataframe tbody tr th {\n",
       "        vertical-align: top;\n",
       "    }\n",
       "\n",
       "    .dataframe thead th {\n",
       "        text-align: right;\n",
       "    }\n",
       "</style>\n",
       "<table border=\"1\" class=\"dataframe\">\n",
       "  <thead>\n",
       "    <tr style=\"text-align: right;\">\n",
       "      <th></th>\n",
       "      <th>DISTANCE</th>\n",
       "      <th>DEPARTURE_DELAY</th>\n",
       "      <th>ARRIVAL_DELAY</th>\n",
       "    </tr>\n",
       "  </thead>\n",
       "  <tbody>\n",
       "    <tr>\n",
       "      <th>DISTANCE</th>\n",
       "      <td>1.000000</td>\n",
       "      <td>0.023095</td>\n",
       "      <td>-0.027935</td>\n",
       "    </tr>\n",
       "    <tr>\n",
       "      <th>DEPARTURE_DELAY</th>\n",
       "      <td>0.023095</td>\n",
       "      <td>1.000000</td>\n",
       "      <td>0.936069</td>\n",
       "    </tr>\n",
       "    <tr>\n",
       "      <th>ARRIVAL_DELAY</th>\n",
       "      <td>-0.027935</td>\n",
       "      <td>0.936069</td>\n",
       "      <td>1.000000</td>\n",
       "    </tr>\n",
       "  </tbody>\n",
       "</table>\n",
       "</div>"
      ],
      "text/plain": [
       "                 DISTANCE  DEPARTURE_DELAY  ARRIVAL_DELAY\n",
       "DISTANCE         1.000000         0.023095      -0.027935\n",
       "DEPARTURE_DELAY  0.023095         1.000000       0.936069\n",
       "ARRIVAL_DELAY   -0.027935         0.936069       1.000000"
      ]
     },
     "execution_count": 15,
     "metadata": {},
     "output_type": "execute_result"
    }
   ],
   "source": [
    "Distance_corr = FlightData[['DISTANCE', 'DEPARTURE_DELAY','ARRIVAL_DELAY']]\n",
    "Distance_corr.corr()"
   ]
  },
  {
   "cell_type": "markdown",
   "metadata": {},
   "source": [
    "Observation: Correlation matrix shows a very low correlation of distance with both departure and arrival delays."
   ]
  },
  {
   "cell_type": "code",
   "execution_count": 16,
   "metadata": {},
   "outputs": [
    {
     "data": {
      "image/png": "[encoded data removed]",
      "text/plain": [
       "<Figure size 432x288 with 1 Axes>"
      ]
     },
     "metadata": {
      "needs_background": "light"
     },
     "output_type": "display_data"
    },
    {
     "data": {
      "image/png": "[encoded data removed]",
      "text/plain": [
       "<Figure size 432x288 with 1 Axes>"
      ]
     },
     "metadata": {
      "needs_background": "light"
     },
     "output_type": "display_data"
    }
   ],
   "source": [
    "# scatter plot with regression line\n",
    "\n",
    "scatter, ax = plt.subplots()\n",
    "ax = sns.regplot(x = 'DISTANCE', y = 'DEPARTURE_DELAY', data = FlightData, color = \"brown\",marker = '.' )\n",
    "\n",
    "ax.set_title('Scatterplot of Departure Delay Vs Distance')\n",
    "ax.set_xlabel('DISTANCE')\n",
    "ax.set_ylabel('DEPARTURE DELAY')\n",
    "\n",
    "plt.show()\n",
    "\n",
    "# scatter plot with regression line\n",
    "scatter, ax = plt.subplots()\n",
    "ax = sns.regplot(x = 'DISTANCE', y = 'ARRIVAL_DELAY', data = FlightData, color = \"orange\", marker = '.')\n",
    "\n",
    "ax.set_title('Scatterplot of Arrival Delay Vs Distance')\n",
    "ax.set_xlabel('DISTANCE')\n",
    "ax.set_ylabel('ARRIVAL DELAY')\n",
    "\n",
    "plt.show()"
   ]
  },
  {
   "cell_type": "markdown",
   "metadata": {},
   "source": [
    "Observation: With further diagnosis, scatter plot shows no particular pattern or trend of distance with departure or arrival delay. If we plot a regression line, it is almost parallel to X axis which implies predictor Distance has no implication on Departure or Arrival Delay. The same was shown in correlation matrix.\n"
   ]
  },
  {
   "cell_type": "markdown",
   "metadata": {},
   "source": [
    "#### 9. What about day of week vs departure delay?"
   ]
  },
  {
   "cell_type": "code",
   "execution_count": 17,
   "metadata": {
    "scrolled": true
   },
   "outputs": [
    {
     "data": {
      "text/html": [
       "<div>\n",
       "<style scoped>\n",
       "    .dataframe tbody tr th:only-of-type {\n",
       "        vertical-align: middle;\n",
       "    }\n",
       "\n",
       "    .dataframe tbody tr th {\n",
       "        vertical-align: top;\n",
       "    }\n",
       "\n",
       "    .dataframe thead th {\n",
       "        text-align: right;\n",
       "    }\n",
       "</style>\n",
       "<table border=\"1\" class=\"dataframe\">\n",
       "  <thead>\n",
       "    <tr style=\"text-align: right;\">\n",
       "      <th></th>\n",
       "      <th>DAY_OF_WEEK</th>\n",
       "      <th>DEPARTURE_DELAY</th>\n",
       "      <th>ARRIVAL_DELAY</th>\n",
       "    </tr>\n",
       "  </thead>\n",
       "  <tbody>\n",
       "    <tr>\n",
       "      <th>DAY_OF_WEEK</th>\n",
       "      <td>1.000000</td>\n",
       "      <td>-0.004786</td>\n",
       "      <td>-0.008692</td>\n",
       "    </tr>\n",
       "    <tr>\n",
       "      <th>DEPARTURE_DELAY</th>\n",
       "      <td>-0.004786</td>\n",
       "      <td>1.000000</td>\n",
       "      <td>0.936069</td>\n",
       "    </tr>\n",
       "    <tr>\n",
       "      <th>ARRIVAL_DELAY</th>\n",
       "      <td>-0.008692</td>\n",
       "      <td>0.936069</td>\n",
       "      <td>1.000000</td>\n",
       "    </tr>\n",
       "  </tbody>\n",
       "</table>\n",
       "</div>"
      ],
      "text/plain": [
       "                 DAY_OF_WEEK  DEPARTURE_DELAY  ARRIVAL_DELAY\n",
       "DAY_OF_WEEK         1.000000        -0.004786      -0.008692\n",
       "DEPARTURE_DELAY    -0.004786         1.000000       0.936069\n",
       "ARRIVAL_DELAY      -0.008692         0.936069       1.000000"
      ]
     },
     "execution_count": 17,
     "metadata": {},
     "output_type": "execute_result"
    }
   ],
   "source": [
    "Week_corr= FlightData[['DAY_OF_WEEK', 'DEPARTURE_DELAY','ARRIVAL_DELAY']]\n",
    "Week_corr.corr()"
   ]
  },
  {
   "cell_type": "code",
   "execution_count": 18,
   "metadata": {
    "scrolled": false
   },
   "outputs": [
    {
     "data": {
      "image/png": "[encoded data removed]",
      "text/plain": [
       "<Figure size 360x360 with 1 Axes>"
      ]
     },
     "metadata": {
      "needs_background": "light"
     },
     "output_type": "display_data"
    }
   ],
   "source": [
    "# Graph showing variation in departure delay as per day of the week.\n",
    "ax = sns.catplot(x = 'DAY_OF_WEEK', y = 'DEPARTURE_DELAY', data = FlightData , kind = \"bar\", palette = \"muted\")\n",
    "\n",
    "ax.set_xlabels('Days of the week')\n",
    "ax.set_ylabels('Departure delay')\n",
    "\n",
    "ax.fig.suptitle('Departure delay vs days of the week')\n",
    "\n",
    "plt.show()\n"
   ]
  },
  {
   "cell_type": "markdown",
   "metadata": {},
   "source": [
    "Observation: Graph shows no trend therefore, departure delays does not have any relation with the days of the week. It is also seen in the correlation matrix where the value is extremely low (-0.004) between the two. \n"
   ]
  },
  {
   "cell_type": "markdown",
   "metadata": {},
   "source": [
    "#### 10. If there is a departure delay (i.e. positive values for departure delay), does distance have anything to do with arrival delay? Explain. (My experience has been that longer distance ights can make up more time.)"
   ]
  },
  {
   "cell_type": "code",
   "execution_count": 19,
   "metadata": {},
   "outputs": [
    {
     "data": {
      "text/html": [
       "<div>\n",
       "<style scoped>\n",
       "    .dataframe tbody tr th:only-of-type {\n",
       "        vertical-align: middle;\n",
       "    }\n",
       "\n",
       "    .dataframe tbody tr th {\n",
       "        vertical-align: top;\n",
       "    }\n",
       "\n",
       "    .dataframe thead th {\n",
       "        text-align: right;\n",
       "    }\n",
       "</style>\n",
       "<table border=\"1\" class=\"dataframe\">\n",
       "  <thead>\n",
       "    <tr style=\"text-align: right;\">\n",
       "      <th></th>\n",
       "      <th>DISTANCE</th>\n",
       "      <th>DEPARTURE_DELAY</th>\n",
       "      <th>ARRIVAL_DELAY</th>\n",
       "    </tr>\n",
       "  </thead>\n",
       "  <tbody>\n",
       "    <tr>\n",
       "      <th>DISTANCE</th>\n",
       "      <td>1.000000</td>\n",
       "      <td>-0.044285</td>\n",
       "      <td>-0.094924</td>\n",
       "    </tr>\n",
       "    <tr>\n",
       "      <th>DEPARTURE_DELAY</th>\n",
       "      <td>-0.044285</td>\n",
       "      <td>1.000000</td>\n",
       "      <td>0.960662</td>\n",
       "    </tr>\n",
       "    <tr>\n",
       "      <th>ARRIVAL_DELAY</th>\n",
       "      <td>-0.094924</td>\n",
       "      <td>0.960662</td>\n",
       "      <td>1.000000</td>\n",
       "    </tr>\n",
       "  </tbody>\n",
       "</table>\n",
       "</div>"
      ],
      "text/plain": [
       "                 DISTANCE  DEPARTURE_DELAY  ARRIVAL_DELAY\n",
       "DISTANCE         1.000000        -0.044285      -0.094924\n",
       "DEPARTURE_DELAY -0.044285         1.000000       0.960662\n",
       "ARRIVAL_DELAY   -0.094924         0.960662       1.000000"
      ]
     },
     "execution_count": 19,
     "metadata": {},
     "output_type": "execute_result"
    }
   ],
   "source": [
    "# Create dataframe with positive departure delays only\n",
    "FD_dep_delay= FlightData[FlightData['DEPARTURE_DELAY']>0][['AIRLINE','DISTANCE','DEPARTURE_DELAY','ARRIVAL_DELAY']]\n",
    "\n",
    "# check correlation\n",
    "FD_dep_delay.corr()"
   ]
  },
  {
   "cell_type": "code",
   "execution_count": 20,
   "metadata": {},
   "outputs": [
    {
     "data": {
      "image/png": "[encoded data removed]",
      "text/plain": [
       "<Figure size 432x288 with 1 Axes>"
      ]
     },
     "metadata": {
      "needs_background": "light"
     },
     "output_type": "display_data"
    }
   ],
   "source": [
    "# scatter plot with regression line\n",
    "scatter, ax = plt.subplots()\n",
    "ax = sns.regplot(x = 'DISTANCE', y = 'ARRIVAL_DELAY', data = FD_dep_delay, color = \"purple\",marker = '.')\n",
    "\n",
    "ax.set_title('Scatterplot & Regression line of Arrival Delay Vs Distance')\n",
    "ax.set_xlabel('DISTANCE')\n",
    "ax.set_ylabel('ARRIVAL DELAY')\n",
    "\n",
    "plt.show()"
   ]
  },
  {
   "cell_type": "markdown",
   "metadata": {},
   "source": [
    "Observation: Graph still shows arrival delays does not have any relation with distance. It is also seen in the correlation matrix where the value is extremely low (-0.09) between the two. "
   ]
  },
  {
   "cell_type": "markdown",
   "metadata": {},
   "source": [
    "#### 11. Analyse Departure delays. How many flights overall were delayed in 2015? From those delayed, how are the Departure delay thresholds (15 minutes, 1 hour, more than one hour) distributed overall and for each airlines? For example, are more airlines delayed under 15 minutes or more than an hour?"
   ]
  },
  {
   "cell_type": "code",
   "execution_count": 21,
   "metadata": {},
   "outputs": [
    {
     "name": "stdout",
     "output_type": "stream",
     "text": [
      "   YEAR  MONTH  DAY  DAY_OF_WEEK AIRLINE  FLIGHT_NUMBER TAIL_NUMBER  \\\n",
      "0  2015      1    1            4      EV           4160      N11150   \n",
      "2  2015      1    1            4      WN            119      N271LV   \n",
      "3  2015      1    1            4      EV           4936      N738EV   \n",
      "\n",
      "  ORIGIN_AIRPORT DESTINATION_AIRPORT  SCHEDULED_DEPARTURE  ...  ARRIVAL_DELAY  \\\n",
      "0            JAX                 EWR                  540  ...          -14.0   \n",
      "2            RSW                 ATL                  800  ...          -11.0   \n",
      "3            MSP                 IAD                  900  ...           12.0   \n",
      "\n",
      "   DIVERTED  CANCELLED  CANCELLATION_REASON  AIR_SYSTEM_DELAY  SECURITY_DELAY  \\\n",
      "0         0          0                  NaN               NaN             NaN   \n",
      "2         0          0                  NaN               NaN             NaN   \n",
      "3         0          0                  NaN               NaN             NaN   \n",
      "\n",
      "   AIRLINE_DELAY  LATE_AIRCRAFT_DELAY  WEATHER_DELAY  Dep_Delay_Overall  \n",
      "0            NaN                  NaN            NaN        On_Schedule  \n",
      "2            NaN                  NaN            NaN        On_Schedule  \n",
      "3            NaN                  NaN            NaN            Delayed  \n",
      "\n",
      "[3 rows x 32 columns]\n",
      "Unique values are:\n",
      "On_Schedule    3598\n",
      "Delayed        2115\n",
      "Name: Dep_Delay_Overall, dtype: int64\n"
     ]
    }
   ],
   "source": [
    "# Approach\n",
    "# Part 1: Piechart to see the percentage of overall on-time & delayed flights\n",
    "# Part 2: Bargraph to see the various levels of delay (short, medium & high) for every airline.\n",
    "# Part 3: Piechart to summarize the observation of bar graph above to overall percentage.\n",
    "\n",
    "# Part 1\n",
    "# create a column to find how many flights out of the total are on-time and delayed.\n",
    "FlightData['Dep_Delay_Overall'] = 'On_Schedule'\n",
    "FlightData.loc[(FlightData.DEPARTURE_DELAY > 0),'Dep_Delay_Overall'] = 'Delayed'\n",
    "print (FlightData.head(3))\n",
    "\n",
    "\n",
    "# Count type and frequency\n",
    "Overall_Delay_chart= FlightData['Dep_Delay_Overall'].value_counts()\n",
    "Overall_Delay_chartds= pd.Series(Overall_Delay_chart) # Dataseries for value counts of unique dummy values\n",
    "print (\"Unique values are:\",Overall_Delay_chartds, sep='\\n')\n",
    "\n",
    "Schedule_Type=FlightData['Dep_Delay_Overall'].unique() #for Label"
   ]
  },
  {
   "cell_type": "code",
   "execution_count": 22,
   "metadata": {},
   "outputs": [
    {
     "data": {
      "image/png": "[encoded data removed]",
      "text/plain": [
       "<Figure size 432x288 with 1 Axes>"
      ]
     },
     "metadata": {},
     "output_type": "display_data"
    }
   ],
   "source": [
    "# Piechart for on-time & delay percentage\n",
    "fig1,ax1= plt.subplots()\n",
    "explode = (0.1, 0)\n",
    "ax1.pie(Overall_Delay_chartds, labels=Schedule_Type, autopct='%.1f%%', startangle=90, shadow = True, explode = explode)\n",
    "ax1.axis('equal')\n",
    "\n",
    "plt.show()"
   ]
  },
  {
   "cell_type": "markdown",
   "metadata": {},
   "source": [
    "**Observation: Pie Chart shows 37% flights delayed.**"
   ]
  },
  {
   "cell_type": "code",
   "execution_count": 23,
   "metadata": {},
   "outputs": [
    {
     "data": {
      "text/html": [
       "<div>\n",
       "<style scoped>\n",
       "    .dataframe tbody tr th:only-of-type {\n",
       "        vertical-align: middle;\n",
       "    }\n",
       "\n",
       "    .dataframe tbody tr th {\n",
       "        vertical-align: top;\n",
       "    }\n",
       "\n",
       "    .dataframe thead th {\n",
       "        text-align: right;\n",
       "    }\n",
       "</style>\n",
       "<table border=\"1\" class=\"dataframe\">\n",
       "  <thead>\n",
       "    <tr style=\"text-align: right;\">\n",
       "      <th></th>\n",
       "      <th>AIRLINE</th>\n",
       "      <th>DISTANCE</th>\n",
       "      <th>DEPARTURE_DELAY</th>\n",
       "      <th>ARRIVAL_DELAY</th>\n",
       "      <th>Delay_lvl</th>\n",
       "    </tr>\n",
       "  </thead>\n",
       "  <tbody>\n",
       "    <tr>\n",
       "      <th>3</th>\n",
       "      <td>EV</td>\n",
       "      <td>908</td>\n",
       "      <td>1.0</td>\n",
       "      <td>12.0</td>\n",
       "      <td>Short</td>\n",
       "    </tr>\n",
       "    <tr>\n",
       "      <th>7</th>\n",
       "      <td>OO</td>\n",
       "      <td>222</td>\n",
       "      <td>32.0</td>\n",
       "      <td>36.0</td>\n",
       "      <td>Medium</td>\n",
       "    </tr>\n",
       "    <tr>\n",
       "      <th>12</th>\n",
       "      <td>US</td>\n",
       "      <td>1916</td>\n",
       "      <td>13.0</td>\n",
       "      <td>7.0</td>\n",
       "      <td>Short</td>\n",
       "    </tr>\n",
       "    <tr>\n",
       "      <th>14</th>\n",
       "      <td>UA</td>\n",
       "      <td>1874</td>\n",
       "      <td>12.0</td>\n",
       "      <td>-18.0</td>\n",
       "      <td>Short</td>\n",
       "    </tr>\n",
       "    <tr>\n",
       "      <th>15</th>\n",
       "      <td>WN</td>\n",
       "      <td>317</td>\n",
       "      <td>6.0</td>\n",
       "      <td>0.0</td>\n",
       "      <td>Short</td>\n",
       "    </tr>\n",
       "  </tbody>\n",
       "</table>\n",
       "</div>"
      ],
      "text/plain": [
       "   AIRLINE  DISTANCE  DEPARTURE_DELAY  ARRIVAL_DELAY Delay_lvl\n",
       "3       EV       908              1.0           12.0     Short\n",
       "7       OO       222             32.0           36.0    Medium\n",
       "12      US      1916             13.0            7.0     Short\n",
       "14      UA      1874             12.0          -18.0     Short\n",
       "15      WN       317              6.0            0.0     Short"
      ]
     },
     "execution_count": 23,
     "metadata": {},
     "output_type": "execute_result"
    }
   ],
   "source": [
    "# Part 2\n",
    "\n",
    "# Further, Level of delays are added as dummy variables to see for each airline\n",
    "# To the positive delayed flights from Q10, add time based delays. Categories are as below:\n",
    "# short: 1-15 minutes\n",
    "# Medium: 16-60 minutes\n",
    "# High: above 60 minutes\n",
    "\n",
    "# create dummy column for delay levels\n",
    "FD_dep_delay['Delay_lvl'] = 'Short'\n",
    "FD_dep_delay.loc[(FD_dep_delay.DEPARTURE_DELAY >=15)&(FD_dep_delay.DEPARTURE_DELAY <=60),'Delay_lvl']='Medium'\n",
    "FD_dep_delay.loc[(FD_dep_delay.DEPARTURE_DELAY >=60),'Delay_lvl']='High'\n",
    "FD_dep_delay.head()"
   ]
  },
  {
   "cell_type": "code",
   "execution_count": 24,
   "metadata": {},
   "outputs": [
    {
     "data": {
      "image/png": "[encoded data removed]",
      "text/plain": [
       "<Figure size 1080x720 with 1 Axes>"
      ]
     },
     "metadata": {
      "needs_background": "light"
     },
     "output_type": "display_data"
    }
   ],
   "source": [
    "# Graph showing distribution of delay levels for each airline\n",
    "fig = plt.figure(1, figsize=(15,10))\n",
    "ax = sns.countplot(x=\"AIRLINE\", hue='Delay_lvl', data=FD_dep_delay)"
   ]
  },
  {
   "cell_type": "markdown",
   "metadata": {},
   "source": [
    "Observation: Graph shows most short delays, i.e. from 1 to 15 minutes for airlines. Also, longer than one hour delays are least. **Further, at first glance, predominantly, trend is high delays (longer than 1 hour) are one-third of the short delays.**  \n",
    "Let's check the individual percentage of overall delay levels to see if our observation is correct."
   ]
  },
  {
   "cell_type": "code",
   "execution_count": 25,
   "metadata": {},
   "outputs": [
    {
     "name": "stdout",
     "output_type": "stream",
     "text": [
      "Unique values are:\n",
      "Short     1067\n",
      "Medium     733\n",
      "High       315\n",
      "Name: Delay_lvl, dtype: int64\n"
     ]
    }
   ],
   "source": [
    "# Part 3\n",
    "# Overall percentage of delay levels\n",
    "\n",
    "# Count type and frequency\n",
    "Lvl_Delay_chart= FD_dep_delay['Delay_lvl'].value_counts()\n",
    "\n",
    "Lvl_Delay_chartds= pd.Series(Lvl_Delay_chart) # Dataseries for value counts of unique dummy values\n",
    "print (\"Unique values are:\", Lvl_Delay_chartds, sep='\\n')\n",
    "\n",
    "Lvl_Type = FD_dep_delay['Delay_lvl'].unique() # For Label"
   ]
  },
  {
   "cell_type": "code",
   "execution_count": 26,
   "metadata": {},
   "outputs": [
    {
     "data": {
      "image/png": "[encoded data removed]",
      "text/plain": [
       "<Figure size 432x288 with 1 Axes>"
      ]
     },
     "metadata": {},
     "output_type": "display_data"
    }
   ],
   "source": [
    "# Piechart of delay level percentage \n",
    "fig2,ax2= plt.subplots()\n",
    "explode = (0.1, 0,0)\n",
    "ax2.pie(Lvl_Delay_chartds, labels=Lvl_Type, autopct='%.1f%%', startangle=90, shadow = True, explode = explode)\n",
    "ax2.axis('equal')\n",
    "\n",
    "plt.show()"
   ]
  },
  {
   "cell_type": "markdown",
   "metadata": {},
   "source": [
    "**Observation: Pie Chart shows 50% of the flights delayed are under 15 minutes.** Also, 15% of the flights are departure delays of more than an hour.  \n",
    "Trend as seen in the bar graph was high delays are one third of short delays which is also seen in the pie chart."
   ]
  },
  {
   "cell_type": "markdown",
   "metadata": {},
   "source": [
    "#### 12. Is there a specific time (or time period) in the day when flight departures are usually delayed or are usually on time?"
   ]
  },
  {
   "cell_type": "code",
   "execution_count": 27,
   "metadata": {},
   "outputs": [
    {
     "data": {
      "image/png": "[encoded data removed]",
      "text/plain": [
       "<Figure size 720x504 with 1 Axes>"
      ]
     },
     "metadata": {
      "needs_background": "light"
     },
     "output_type": "display_data"
    }
   ],
   "source": [
    "# Part 1: Scatter plot to diagnose a trend (if any)\n",
    "# Part 2: Bar graph to see if trend shows any insight as per time slot of the day (morning, daytime, evening & late/early hours)\n",
    "\n",
    "# Part 1\n",
    "# Hourly scatter plot \n",
    "fig = plt.figure(1, figsize=(10,7))\n",
    "ax = sns.scatterplot(x=\"SCHEDULED_DEPARTURE\", y=\"DEPARTURE_DELAY\", data=FlightData, color = \"purple\",marker = 'o')\n"
   ]
  },
  {
   "cell_type": "markdown",
   "metadata": {},
   "source": [
    "Observation: Graph shows minimal delays particulary around 12am to 5am. Lets analyse time period wise"
   ]
  },
  {
   "cell_type": "code",
   "execution_count": 28,
   "metadata": {},
   "outputs": [
    {
     "data": {
      "text/html": [
       "<div>\n",
       "<style scoped>\n",
       "    .dataframe tbody tr th:only-of-type {\n",
       "        vertical-align: middle;\n",
       "    }\n",
       "\n",
       "    .dataframe tbody tr th {\n",
       "        vertical-align: top;\n",
       "    }\n",
       "\n",
       "    .dataframe thead th {\n",
       "        text-align: right;\n",
       "    }\n",
       "</style>\n",
       "<table border=\"1\" class=\"dataframe\">\n",
       "  <thead>\n",
       "    <tr style=\"text-align: right;\">\n",
       "      <th></th>\n",
       "      <th>YEAR</th>\n",
       "      <th>MONTH</th>\n",
       "      <th>DAY</th>\n",
       "      <th>DAY_OF_WEEK</th>\n",
       "      <th>AIRLINE</th>\n",
       "      <th>FLIGHT_NUMBER</th>\n",
       "      <th>TAIL_NUMBER</th>\n",
       "      <th>ORIGIN_AIRPORT</th>\n",
       "      <th>DESTINATION_AIRPORT</th>\n",
       "      <th>SCHEDULED_DEPARTURE</th>\n",
       "      <th>...</th>\n",
       "      <th>DIVERTED</th>\n",
       "      <th>CANCELLED</th>\n",
       "      <th>CANCELLATION_REASON</th>\n",
       "      <th>AIR_SYSTEM_DELAY</th>\n",
       "      <th>SECURITY_DELAY</th>\n",
       "      <th>AIRLINE_DELAY</th>\n",
       "      <th>LATE_AIRCRAFT_DELAY</th>\n",
       "      <th>WEATHER_DELAY</th>\n",
       "      <th>Dep_Delay_Overall</th>\n",
       "      <th>Time_Dummy</th>\n",
       "    </tr>\n",
       "  </thead>\n",
       "  <tbody>\n",
       "    <tr>\n",
       "      <th>0</th>\n",
       "      <td>2015</td>\n",
       "      <td>1</td>\n",
       "      <td>1</td>\n",
       "      <td>4</td>\n",
       "      <td>EV</td>\n",
       "      <td>4160</td>\n",
       "      <td>N11150</td>\n",
       "      <td>JAX</td>\n",
       "      <td>EWR</td>\n",
       "      <td>540</td>\n",
       "      <td>...</td>\n",
       "      <td>0</td>\n",
       "      <td>0</td>\n",
       "      <td>NaN</td>\n",
       "      <td>NaN</td>\n",
       "      <td>NaN</td>\n",
       "      <td>NaN</td>\n",
       "      <td>NaN</td>\n",
       "      <td>NaN</td>\n",
       "      <td>On_Schedule</td>\n",
       "      <td>Late/Early_Hours</td>\n",
       "    </tr>\n",
       "    <tr>\n",
       "      <th>2</th>\n",
       "      <td>2015</td>\n",
       "      <td>1</td>\n",
       "      <td>1</td>\n",
       "      <td>4</td>\n",
       "      <td>WN</td>\n",
       "      <td>119</td>\n",
       "      <td>N271LV</td>\n",
       "      <td>RSW</td>\n",
       "      <td>ATL</td>\n",
       "      <td>800</td>\n",
       "      <td>...</td>\n",
       "      <td>0</td>\n",
       "      <td>0</td>\n",
       "      <td>NaN</td>\n",
       "      <td>NaN</td>\n",
       "      <td>NaN</td>\n",
       "      <td>NaN</td>\n",
       "      <td>NaN</td>\n",
       "      <td>NaN</td>\n",
       "      <td>On_Schedule</td>\n",
       "      <td>Morning</td>\n",
       "    </tr>\n",
       "    <tr>\n",
       "      <th>3</th>\n",
       "      <td>2015</td>\n",
       "      <td>1</td>\n",
       "      <td>1</td>\n",
       "      <td>4</td>\n",
       "      <td>EV</td>\n",
       "      <td>4936</td>\n",
       "      <td>N738EV</td>\n",
       "      <td>MSP</td>\n",
       "      <td>IAD</td>\n",
       "      <td>900</td>\n",
       "      <td>...</td>\n",
       "      <td>0</td>\n",
       "      <td>0</td>\n",
       "      <td>NaN</td>\n",
       "      <td>NaN</td>\n",
       "      <td>NaN</td>\n",
       "      <td>NaN</td>\n",
       "      <td>NaN</td>\n",
       "      <td>NaN</td>\n",
       "      <td>Delayed</td>\n",
       "      <td>Morning</td>\n",
       "    </tr>\n",
       "    <tr>\n",
       "      <th>4</th>\n",
       "      <td>2015</td>\n",
       "      <td>1</td>\n",
       "      <td>1</td>\n",
       "      <td>4</td>\n",
       "      <td>DL</td>\n",
       "      <td>2319</td>\n",
       "      <td>N960DL</td>\n",
       "      <td>LGA</td>\n",
       "      <td>MSP</td>\n",
       "      <td>1010</td>\n",
       "      <td>...</td>\n",
       "      <td>0</td>\n",
       "      <td>0</td>\n",
       "      <td>NaN</td>\n",
       "      <td>NaN</td>\n",
       "      <td>NaN</td>\n",
       "      <td>NaN</td>\n",
       "      <td>NaN</td>\n",
       "      <td>NaN</td>\n",
       "      <td>On_Schedule</td>\n",
       "      <td>Morning</td>\n",
       "    </tr>\n",
       "    <tr>\n",
       "      <th>5</th>\n",
       "      <td>2015</td>\n",
       "      <td>1</td>\n",
       "      <td>1</td>\n",
       "      <td>4</td>\n",
       "      <td>DL</td>\n",
       "      <td>1806</td>\n",
       "      <td>N594NW</td>\n",
       "      <td>LAX</td>\n",
       "      <td>DTW</td>\n",
       "      <td>1115</td>\n",
       "      <td>...</td>\n",
       "      <td>0</td>\n",
       "      <td>0</td>\n",
       "      <td>NaN</td>\n",
       "      <td>NaN</td>\n",
       "      <td>NaN</td>\n",
       "      <td>NaN</td>\n",
       "      <td>NaN</td>\n",
       "      <td>NaN</td>\n",
       "      <td>On_Schedule</td>\n",
       "      <td>Morning</td>\n",
       "    </tr>\n",
       "    <tr>\n",
       "      <th>6</th>\n",
       "      <td>2015</td>\n",
       "      <td>1</td>\n",
       "      <td>1</td>\n",
       "      <td>4</td>\n",
       "      <td>AA</td>\n",
       "      <td>1509</td>\n",
       "      <td>N3BGAA</td>\n",
       "      <td>BWI</td>\n",
       "      <td>MIA</td>\n",
       "      <td>1309</td>\n",
       "      <td>...</td>\n",
       "      <td>0</td>\n",
       "      <td>0</td>\n",
       "      <td>NaN</td>\n",
       "      <td>NaN</td>\n",
       "      <td>NaN</td>\n",
       "      <td>NaN</td>\n",
       "      <td>NaN</td>\n",
       "      <td>NaN</td>\n",
       "      <td>On_Schedule</td>\n",
       "      <td>Daytime</td>\n",
       "    </tr>\n",
       "  </tbody>\n",
       "</table>\n",
       "<p>6 rows × 33 columns</p>\n",
       "</div>"
      ],
      "text/plain": [
       "   YEAR  MONTH  DAY  DAY_OF_WEEK AIRLINE  FLIGHT_NUMBER TAIL_NUMBER  \\\n",
       "0  2015      1    1            4      EV           4160      N11150   \n",
       "2  2015      1    1            4      WN            119      N271LV   \n",
       "3  2015      1    1            4      EV           4936      N738EV   \n",
       "4  2015      1    1            4      DL           2319      N960DL   \n",
       "5  2015      1    1            4      DL           1806      N594NW   \n",
       "6  2015      1    1            4      AA           1509      N3BGAA   \n",
       "\n",
       "  ORIGIN_AIRPORT DESTINATION_AIRPORT  SCHEDULED_DEPARTURE  ...  DIVERTED  \\\n",
       "0            JAX                 EWR                  540  ...         0   \n",
       "2            RSW                 ATL                  800  ...         0   \n",
       "3            MSP                 IAD                  900  ...         0   \n",
       "4            LGA                 MSP                 1010  ...         0   \n",
       "5            LAX                 DTW                 1115  ...         0   \n",
       "6            BWI                 MIA                 1309  ...         0   \n",
       "\n",
       "   CANCELLED  CANCELLATION_REASON  AIR_SYSTEM_DELAY  SECURITY_DELAY  \\\n",
       "0          0                  NaN               NaN             NaN   \n",
       "2          0                  NaN               NaN             NaN   \n",
       "3          0                  NaN               NaN             NaN   \n",
       "4          0                  NaN               NaN             NaN   \n",
       "5          0                  NaN               NaN             NaN   \n",
       "6          0                  NaN               NaN             NaN   \n",
       "\n",
       "   AIRLINE_DELAY  LATE_AIRCRAFT_DELAY  WEATHER_DELAY  Dep_Delay_Overall  \\\n",
       "0            NaN                  NaN            NaN        On_Schedule   \n",
       "2            NaN                  NaN            NaN        On_Schedule   \n",
       "3            NaN                  NaN            NaN            Delayed   \n",
       "4            NaN                  NaN            NaN        On_Schedule   \n",
       "5            NaN                  NaN            NaN        On_Schedule   \n",
       "6            NaN                  NaN            NaN        On_Schedule   \n",
       "\n",
       "         Time_Dummy  \n",
       "0  Late/Early_Hours  \n",
       "2           Morning  \n",
       "3           Morning  \n",
       "4           Morning  \n",
       "5           Morning  \n",
       "6           Daytime  \n",
       "\n",
       "[6 rows x 33 columns]"
      ]
     },
     "execution_count": 28,
     "metadata": {},
     "output_type": "execute_result"
    }
   ],
   "source": [
    "# Part 2\n",
    "# further analysis by time period\n",
    "# Morning :         6am to 12pm\n",
    "# Daytime:          12pm to 6pm\n",
    "# Evening :         6pm to 12pm\n",
    "# Late/Early hours: 12pm to 6am\n",
    "\n",
    "# creating parts of the day and adding to dataframe\n",
    "FlightData['Time_Dummy'] = 'Late/Early_Hours'\n",
    "FlightData.loc[(FlightData.SCHEDULED_DEPARTURE > 600) & (FlightData.SCHEDULED_DEPARTURE <= 1200),'Time_Dummy'] = 'Morning'\n",
    "FlightData.loc[(FlightData.SCHEDULED_DEPARTURE > 1200) & (FlightData.SCHEDULED_DEPARTURE <= 1800),'Time_Dummy'] = 'Daytime'\n",
    "FlightData.loc[(FlightData.SCHEDULED_DEPARTURE > 1800) & (FlightData.SCHEDULED_DEPARTURE <= 2400),'Time_Dummy'] = 'Evening'\n",
    "FlightData.loc[FlightData.SCHEDULED_DEPARTURE > 2400,'Time_Dummy'] = 'Late/Early_Hours'\n",
    "\n",
    "FlightData.head(6)"
   ]
  },
  {
   "cell_type": "code",
   "execution_count": 29,
   "metadata": {},
   "outputs": [
    {
     "data": {
      "image/png": "[encoded data removed]",
      "text/plain": [
       "<Figure size 360x360 with 1 Axes>"
      ]
     },
     "metadata": {
      "needs_background": "light"
     },
     "output_type": "display_data"
    }
   ],
   "source": [
    "# graph of Departure delays vs Time period\n",
    "ax = sns.catplot(x = 'Time_Dummy', y = 'DEPARTURE_DELAY', data = FlightData , kind = \"bar\", palette = \"muted\")\n",
    "\n",
    "ax.set_xlabels('Time of the Day')\n",
    "ax.set_ylabels('Departure delay')\n",
    "ax.fig.suptitle('Departure delay vs Time of the day')\n",
    "\n",
    "plt.show()\n"
   ]
  },
  {
   "cell_type": "markdown",
   "metadata": {},
   "source": [
    "Observation: Graph shows an interesting pattern- a progressive delay with time of the day. We observe least delay from 12pm to 6am and most delays during evening."
   ]
  },
  {
   "cell_type": "markdown",
   "metadata": {},
   "source": [
    "# Part II: Regression Analysis"
   ]
  },
  {
   "cell_type": "code",
   "execution_count": 30,
   "metadata": {},
   "outputs": [],
   "source": [
    "# remove records with null value in WEATHER DELAY\n",
    "flights_new = FlightData.dropna(axis=0,subset=['WEATHER_DELAY'])"
   ]
  },
  {
   "cell_type": "code",
   "execution_count": 31,
   "metadata": {},
   "outputs": [
    {
     "name": "stdout",
     "output_type": "stream",
     "text": [
      "YEAR                      0\n",
      "MONTH                     0\n",
      "DAY                       0\n",
      "DAY_OF_WEEK               0\n",
      "AIRLINE                   0\n",
      "FLIGHT_NUMBER             0\n",
      "TAIL_NUMBER               0\n",
      "ORIGIN_AIRPORT            0\n",
      "DESTINATION_AIRPORT       0\n",
      "SCHEDULED_DEPARTURE       0\n",
      "DEPARTURE_TIME            0\n",
      "DEPARTURE_DELAY           0\n",
      "TAXI_OUT                  0\n",
      "WHEELS_OFF                0\n",
      "SCHEDULED_TIME            0\n",
      "ELAPSED_TIME              0\n",
      "AIR_TIME                  0\n",
      "DISTANCE                  0\n",
      "WHEELS_ON                 0\n",
      "TAXI_IN                   0\n",
      "SCHEDULED_ARRIVAL         0\n",
      "ARRIVAL_TIME              0\n",
      "ARRIVAL_DELAY             0\n",
      "DIVERTED                  0\n",
      "CANCELLED                 0\n",
      "CANCELLATION_REASON    1072\n",
      "AIR_SYSTEM_DELAY          0\n",
      "SECURITY_DELAY            0\n",
      "AIRLINE_DELAY             0\n",
      "LATE_AIRCRAFT_DELAY       0\n",
      "WEATHER_DELAY             0\n",
      "Dep_Delay_Overall         0\n",
      "Time_Dummy                0\n",
      "dtype: int64\n"
     ]
    }
   ],
   "source": [
    "# check null data in new dataframe. Only CANCELLATION_REASON field has 1072 null values.\n",
    "#\n",
    "numrow=flights_new.shape[0]\n",
    "missing = numrow - flights_new.count()\n",
    "print(missing)"
   ]
  },
  {
   "cell_type": "code",
   "execution_count": 32,
   "metadata": {},
   "outputs": [],
   "source": [
    "# create dummy varibles for Airline categorical variable\n",
    "#\n",
    "airline_dummy =pd.get_dummies(flights_new['AIRLINE'])        # create dummy varibles for AIRLINE\n",
    "flights_new =pd.concat([flights_new, airline_dummy], axis=1) # concatenate dummay variable with flights_new dataset\n",
    "del flights_new['AA']   "
   ]
  },
  {
   "cell_type": "code",
   "execution_count": 33,
   "metadata": {},
   "outputs": [
    {
     "data": {
      "text/plain": [
       "Index(['YEAR', 'MONTH', 'DAY', 'DAY_OF_WEEK', 'AIRLINE', 'FLIGHT_NUMBER',\n",
       "       'TAIL_NUMBER', 'ORIGIN_AIRPORT', 'DESTINATION_AIRPORT',\n",
       "       'SCHEDULED_DEPARTURE', 'DEPARTURE_TIME', 'DEPARTURE_DELAY', 'TAXI_OUT',\n",
       "       'WHEELS_OFF', 'SCHEDULED_TIME', 'ELAPSED_TIME', 'AIR_TIME', 'DISTANCE',\n",
       "       'WHEELS_ON', 'TAXI_IN', 'SCHEDULED_ARRIVAL', 'ARRIVAL_TIME',\n",
       "       'ARRIVAL_DELAY', 'DIVERTED', 'CANCELLED', 'CANCELLATION_REASON',\n",
       "       'AIR_SYSTEM_DELAY', 'SECURITY_DELAY', 'AIRLINE_DELAY',\n",
       "       'LATE_AIRCRAFT_DELAY', 'WEATHER_DELAY', 'Dep_Delay_Overall',\n",
       "       'Time_Dummy', 'AS', 'B6', 'DL', 'EV', 'F9', 'HA', 'MQ', 'NK', 'OO',\n",
       "       'UA', 'US', 'VX', 'WN'],\n",
       "      dtype='object')"
      ]
     },
     "execution_count": 33,
     "metadata": {},
     "output_type": "execute_result"
    }
   ],
   "source": [
    "flights_new.columns"
   ]
  },
  {
   "cell_type": "code",
   "execution_count": 34,
   "metadata": {},
   "outputs": [
    {
     "name": "stderr",
     "output_type": "stream",
     "text": [
      "/Users/anupahire/anaconda3/lib/python3.7/site-packages/numpy/core/fromnumeric.py:2389: FutureWarning: Method .ptp is deprecated and will be removed in a future version. Use numpy.ptp instead.\n",
      "  return ptp(axis=axis, out=out, **kwargs)\n"
     ]
    },
    {
     "data": {
      "text/html": [
       "<table class=\"simpletable\">\n",
       "<caption>OLS Regression Results</caption>\n",
       "<tr>\n",
       "  <th>Dep. Variable:</th>      <td>ARRIVAL_DELAY</td>  <th>  R-squared:         </th> <td>   0.999</td> \n",
       "</tr>\n",
       "<tr>\n",
       "  <th>Model:</th>                   <td>OLS</td>       <th>  Adj. R-squared:    </th> <td>   0.999</td> \n",
       "</tr>\n",
       "<tr>\n",
       "  <th>Method:</th>             <td>Least Squares</td>  <th>  F-statistic:       </th> <td>5.292e+04</td>\n",
       "</tr>\n",
       "<tr>\n",
       "  <th>Date:</th>             <td>Wed, 26 Feb 2020</td> <th>  Prob (F-statistic):</th>  <td>  0.00</td>  \n",
       "</tr>\n",
       "<tr>\n",
       "  <th>Time:</th>                 <td>18:26:08</td>     <th>  Log-Likelihood:    </th> <td> -2143.1</td> \n",
       "</tr>\n",
       "<tr>\n",
       "  <th>No. Observations:</th>      <td>  1072</td>      <th>  AIC:               </th> <td>   4330.</td> \n",
       "</tr>\n",
       "<tr>\n",
       "  <th>Df Residuals:</th>          <td>  1050</td>      <th>  BIC:               </th> <td>   4440.</td> \n",
       "</tr>\n",
       "<tr>\n",
       "  <th>Df Model:</th>              <td>    21</td>      <th>                     </th>     <td> </td>    \n",
       "</tr>\n",
       "<tr>\n",
       "  <th>Covariance Type:</th>      <td>nonrobust</td>    <th>                     </th>     <td> </td>    \n",
       "</tr>\n",
       "</table>\n",
       "<table class=\"simpletable\">\n",
       "<tr>\n",
       "           <td></td>              <th>coef</th>     <th>std err</th>      <th>t</th>      <th>P>|t|</th>  <th>[0.025</th>    <th>0.975]</th>  \n",
       "</tr>\n",
       "<tr>\n",
       "  <th>const</th>               <td>    0.5515</td> <td>    0.287</td> <td>    1.920</td> <td> 0.055</td> <td>   -0.012</td> <td>    1.115</td>\n",
       "</tr>\n",
       "<tr>\n",
       "  <th>LATE_AIRCRAFT_DELAY</th> <td>    0.9812</td> <td>    0.004</td> <td>  251.863</td> <td> 0.000</td> <td>    0.974</td> <td>    0.989</td>\n",
       "</tr>\n",
       "<tr>\n",
       "  <th>AIRLINE_DELAY</th>       <td>    0.9819</td> <td>    0.004</td> <td>  258.890</td> <td> 0.000</td> <td>    0.974</td> <td>    0.989</td>\n",
       "</tr>\n",
       "<tr>\n",
       "  <th>AIR_SYSTEM_DELAY</th>    <td>    0.9851</td> <td>    0.003</td> <td>  312.534</td> <td> 0.000</td> <td>    0.979</td> <td>    0.991</td>\n",
       "</tr>\n",
       "<tr>\n",
       "  <th>WEATHER_DELAY</th>       <td>    0.9842</td> <td>    0.004</td> <td>  239.704</td> <td> 0.000</td> <td>    0.976</td> <td>    0.992</td>\n",
       "</tr>\n",
       "<tr>\n",
       "  <th>DAY_OF_WEEK</th>         <td>   -0.0320</td> <td>    0.028</td> <td>   -1.127</td> <td> 0.260</td> <td>   -0.088</td> <td>    0.024</td>\n",
       "</tr>\n",
       "<tr>\n",
       "  <th>DEPARTURE_TIME</th>      <td>   -0.0001</td> <td>    0.000</td> <td>   -0.909</td> <td> 0.364</td> <td>   -0.000</td> <td>    0.000</td>\n",
       "</tr>\n",
       "<tr>\n",
       "  <th>DEPARTURE_DELAY</th>     <td>    0.0160</td> <td>    0.003</td> <td>    4.697</td> <td> 0.000</td> <td>    0.009</td> <td>    0.023</td>\n",
       "</tr>\n",
       "<tr>\n",
       "  <th>DISTANCE</th>            <td>    0.0001</td> <td>    0.000</td> <td>    1.078</td> <td> 0.281</td> <td>-9.01e-05</td> <td>    0.000</td>\n",
       "</tr>\n",
       "<tr>\n",
       "  <th>AS</th>                  <td>    1.8508</td> <td>    0.432</td> <td>    4.282</td> <td> 0.000</td> <td>    1.003</td> <td>    2.699</td>\n",
       "</tr>\n",
       "<tr>\n",
       "  <th>B6</th>                  <td>   -0.0082</td> <td>    0.276</td> <td>   -0.030</td> <td> 0.976</td> <td>   -0.549</td> <td>    0.533</td>\n",
       "</tr>\n",
       "<tr>\n",
       "  <th>DL</th>                  <td>   -0.2441</td> <td>    0.224</td> <td>   -1.090</td> <td> 0.276</td> <td>   -0.683</td> <td>    0.195</td>\n",
       "</tr>\n",
       "<tr>\n",
       "  <th>EV</th>                  <td>   -0.1395</td> <td>    0.241</td> <td>   -0.579</td> <td> 0.563</td> <td>   -0.612</td> <td>    0.333</td>\n",
       "</tr>\n",
       "<tr>\n",
       "  <th>F9</th>                  <td>   -0.0320</td> <td>    0.444</td> <td>   -0.072</td> <td> 0.943</td> <td>   -0.904</td> <td>    0.840</td>\n",
       "</tr>\n",
       "<tr>\n",
       "  <th>HA</th>                  <td>   -0.1580</td> <td>    0.547</td> <td>   -0.289</td> <td> 0.773</td> <td>   -1.230</td> <td>    0.914</td>\n",
       "</tr>\n",
       "<tr>\n",
       "  <th>MQ</th>                  <td>   -0.1346</td> <td>    0.294</td> <td>   -0.457</td> <td> 0.648</td> <td>   -0.712</td> <td>    0.443</td>\n",
       "</tr>\n",
       "<tr>\n",
       "  <th>NK</th>                  <td>    0.4646</td> <td>    0.331</td> <td>    1.402</td> <td> 0.161</td> <td>   -0.186</td> <td>    1.115</td>\n",
       "</tr>\n",
       "<tr>\n",
       "  <th>OO</th>                  <td>   -0.1250</td> <td>    0.240</td> <td>   -0.520</td> <td> 0.603</td> <td>   -0.596</td> <td>    0.346</td>\n",
       "</tr>\n",
       "<tr>\n",
       "  <th>UA</th>                  <td>   -0.3681</td> <td>    0.233</td> <td>   -1.581</td> <td> 0.114</td> <td>   -0.825</td> <td>    0.089</td>\n",
       "</tr>\n",
       "<tr>\n",
       "  <th>US</th>                  <td>   -0.1911</td> <td>    0.319</td> <td>   -0.600</td> <td> 0.549</td> <td>   -0.816</td> <td>    0.434</td>\n",
       "</tr>\n",
       "<tr>\n",
       "  <th>VX</th>                  <td>   -0.0841</td> <td>    0.544</td> <td>   -0.155</td> <td> 0.877</td> <td>   -1.152</td> <td>    0.984</td>\n",
       "</tr>\n",
       "<tr>\n",
       "  <th>WN</th>                  <td>   -0.1901</td> <td>    0.198</td> <td>   -0.959</td> <td> 0.338</td> <td>   -0.579</td> <td>    0.199</td>\n",
       "</tr>\n",
       "</table>\n",
       "<table class=\"simpletable\">\n",
       "<tr>\n",
       "  <th>Omnibus:</th>       <td>2222.999</td> <th>  Durbin-Watson:     </th>  <td>   2.017</td>  \n",
       "</tr>\n",
       "<tr>\n",
       "  <th>Prob(Omnibus):</th>  <td> 0.000</td>  <th>  Jarque-Bera (JB):  </th> <td>4344520.011</td>\n",
       "</tr>\n",
       "<tr>\n",
       "  <th>Skew:</th>           <td>16.618</td>  <th>  Prob(JB):          </th>  <td>    0.00</td>  \n",
       "</tr>\n",
       "<tr>\n",
       "  <th>Kurtosis:</th>       <td>313.098</td> <th>  Cond. No.          </th>  <td>2.20e+04</td>  \n",
       "</tr>\n",
       "</table><br/><br/>Warnings:<br/>[1] Standard Errors assume that the covariance matrix of the errors is correctly specified.<br/>[2] The condition number is large, 2.2e+04. This might indicate that there are<br/>strong multicollinearity or other numerical problems."
      ],
      "text/plain": [
       "<class 'statsmodels.iolib.summary.Summary'>\n",
       "\"\"\"\n",
       "                            OLS Regression Results                            \n",
       "==============================================================================\n",
       "Dep. Variable:          ARRIVAL_DELAY   R-squared:                       0.999\n",
       "Model:                            OLS   Adj. R-squared:                  0.999\n",
       "Method:                 Least Squares   F-statistic:                 5.292e+04\n",
       "Date:                Wed, 26 Feb 2020   Prob (F-statistic):               0.00\n",
       "Time:                        18:26:08   Log-Likelihood:                -2143.1\n",
       "No. Observations:                1072   AIC:                             4330.\n",
       "Df Residuals:                    1050   BIC:                             4440.\n",
       "Df Model:                          21                                         \n",
       "Covariance Type:            nonrobust                                         \n",
       "=======================================================================================\n",
       "                          coef    std err          t      P>|t|      [0.025      0.975]\n",
       "---------------------------------------------------------------------------------------\n",
       "const                   0.5515      0.287      1.920      0.055      -0.012       1.115\n",
       "LATE_AIRCRAFT_DELAY     0.9812      0.004    251.863      0.000       0.974       0.989\n",
       "AIRLINE_DELAY           0.9819      0.004    258.890      0.000       0.974       0.989\n",
       "AIR_SYSTEM_DELAY        0.9851      0.003    312.534      0.000       0.979       0.991\n",
       "WEATHER_DELAY           0.9842      0.004    239.704      0.000       0.976       0.992\n",
       "DAY_OF_WEEK            -0.0320      0.028     -1.127      0.260      -0.088       0.024\n",
       "DEPARTURE_TIME         -0.0001      0.000     -0.909      0.364      -0.000       0.000\n",
       "DEPARTURE_DELAY         0.0160      0.003      4.697      0.000       0.009       0.023\n",
       "DISTANCE                0.0001      0.000      1.078      0.281   -9.01e-05       0.000\n",
       "AS                      1.8508      0.432      4.282      0.000       1.003       2.699\n",
       "B6                     -0.0082      0.276     -0.030      0.976      -0.549       0.533\n",
       "DL                     -0.2441      0.224     -1.090      0.276      -0.683       0.195\n",
       "EV                     -0.1395      0.241     -0.579      0.563      -0.612       0.333\n",
       "F9                     -0.0320      0.444     -0.072      0.943      -0.904       0.840\n",
       "HA                     -0.1580      0.547     -0.289      0.773      -1.230       0.914\n",
       "MQ                     -0.1346      0.294     -0.457      0.648      -0.712       0.443\n",
       "NK                      0.4646      0.331      1.402      0.161      -0.186       1.115\n",
       "OO                     -0.1250      0.240     -0.520      0.603      -0.596       0.346\n",
       "UA                     -0.3681      0.233     -1.581      0.114      -0.825       0.089\n",
       "US                     -0.1911      0.319     -0.600      0.549      -0.816       0.434\n",
       "VX                     -0.0841      0.544     -0.155      0.877      -1.152       0.984\n",
       "WN                     -0.1901      0.198     -0.959      0.338      -0.579       0.199\n",
       "==============================================================================\n",
       "Omnibus:                     2222.999   Durbin-Watson:                   2.017\n",
       "Prob(Omnibus):                  0.000   Jarque-Bera (JB):          4344520.011\n",
       "Skew:                          16.618   Prob(JB):                         0.00\n",
       "Kurtosis:                     313.098   Cond. No.                     2.20e+04\n",
       "==============================================================================\n",
       "\n",
       "Warnings:\n",
       "[1] Standard Errors assume that the covariance matrix of the errors is correctly specified.\n",
       "[2] The condition number is large, 2.2e+04. This might indicate that there are\n",
       "strong multicollinearity or other numerical problems.\n",
       "\"\"\""
      ]
     },
     "execution_count": 34,
     "metadata": {},
     "output_type": "execute_result"
    }
   ],
   "source": [
    "import statsmodels.api as sm\n",
    "X = flights_new[['LATE_AIRCRAFT_DELAY', 'AIRLINE_DELAY', 'AIR_SYSTEM_DELAY', 'WEATHER_DELAY', 'DAY_OF_WEEK', 'DEPARTURE_TIME', 'DEPARTURE_DELAY', 'DISTANCE','AS', 'B6', 'DL', 'EV', 'F9',\n",
    "       'HA', 'MQ', 'NK', 'OO', 'UA', 'US', 'VX', 'WN']]\n",
    "y=flights_new['ARRIVAL_DELAY']\n",
    "X_int = sm.add_constant(X)\n",
    "linreg1 = sm.OLS(y, X_int).fit()\n",
    "linreg1.summary()"
   ]
  },
  {
   "cell_type": "markdown",
   "metadata": {},
   "source": [
    "Observation: DAY_OF_WEEK, DEPARTURE_TIME, DISTANCE, AIRLINE (except AS) have p-value higher than 0.05 which makes them insignificant for prediction of ARRIVAL DELAY.\n",
    "\n",
    "from the model diagnosis, LATE_AIRCRAFT_DELAY, AIRLINE_DELAY, AIR_SYSTEM_DELAY, WEATHER_DELAY, DEPARTURE_DELAY and AS variables have p-value less than 0.05 which make them seem significant for the regression model. "
   ]
  },
  {
   "cell_type": "markdown",
   "metadata": {},
   "source": [
    "#### Provide interpretations for a few of of the coefficients, and comment on whether they make sense."
   ]
  },
  {
   "cell_type": "markdown",
   "metadata": {},
   "source": [
    "Interpretation: When LATE_AIRCRAFT_DELAY is 1 minute keeping all other variables constant, then flight will be delayed by 0.98 minutes. When DEPARTURE_DELAY is of 1 minute, keeping all other variables constant, we can predict that arrival delay will be -0.0001 seconds, in other words if departure delay is of 1 minute then arrival time wil be preponed by few microseconds. When day od week increases by 1, then arrival delay decreases by 0.03 min, which does not make sense."
   ]
  },
  {
   "cell_type": "code",
   "execution_count": 35,
   "metadata": {},
   "outputs": [
    {
     "data": {
      "text/plain": [
       "Text(0.5, 1.0, 'Residuls vs Fitted values')"
      ]
     },
     "execution_count": 35,
     "metadata": {},
     "output_type": "execute_result"
    },
    {
     "data": {
      "image/png": "[encoded data removed]",
      "text/plain": [
       "<Figure size 432x288 with 1 Axes>"
      ]
     },
     "metadata": {
      "needs_background": "light"
     },
     "output_type": "display_data"
    }
   ],
   "source": [
    "plt.scatter(linreg1.fittedvalues, linreg1.resid)\n",
    "#plt.ylim(-1, 1)\n",
    "plt.xlabel('fitted values')\n",
    "plt.ylabel('residuals')\n",
    "plt.title('Residuls vs Fitted values')"
   ]
  },
  {
   "cell_type": "markdown",
   "metadata": {},
   "source": [
    "Observation: the residual vs fitted values plot shows that error terms does not follow homoskedasticity assumption of linearity."
   ]
  },
  {
   "cell_type": "code",
   "execution_count": 36,
   "metadata": {},
   "outputs": [
    {
     "data": {
      "text/plain": [
       "Text(0.5, 1.0, 'qq plot')"
      ]
     },
     "execution_count": 36,
     "metadata": {},
     "output_type": "execute_result"
    },
    {
     "data": {
      "image/png": "[encoded data removed]",
      "text/plain": [
       "<Figure size 432x288 with 1 Axes>"
      ]
     },
     "metadata": {
      "needs_background": "light"
     },
     "output_type": "display_data"
    }
   ],
   "source": [
    "fig=sm.qqplot(linreg1.resid)\n",
    "plt.title('qq plot')"
   ]
  },
  {
   "cell_type": "code",
   "execution_count": 37,
   "metadata": {},
   "outputs": [
    {
     "data": {
      "text/plain": [
       "(-3, 3)"
      ]
     },
     "execution_count": 37,
     "metadata": {},
     "output_type": "execute_result"
    },
    {
     "data": {
      "image/png": "[encoded data removed]",
      "text/plain": [
       "<Figure size 432x288 with 1 Axes>"
      ]
     },
     "metadata": {
      "needs_background": "light"
     },
     "output_type": "display_data"
    }
   ],
   "source": [
    "# Zooming in y axis of the sctterplot graph by considering residual values between 03 to 3\n",
    "fig=sm.qqplot(linreg1.resid)\n",
    "plt.ylim(-3,3)"
   ]
  },
  {
   "cell_type": "markdown",
   "metadata": {},
   "source": [
    "Observation: QQ plot shows the error terms' deviation from normality assumtion "
   ]
  },
  {
   "cell_type": "markdown",
   "metadata": {},
   "source": [
    "# Subpart 2"
   ]
  },
  {
   "cell_type": "code",
   "execution_count": 38,
   "metadata": {},
   "outputs": [
    {
     "data": {
      "image/png": "[encoded data removed]",
      "text/plain": [
       "<Figure size 432x288 with 1 Axes>"
      ]
     },
     "metadata": {
      "needs_background": "light"
     },
     "output_type": "display_data"
    }
   ],
   "source": [
    "# boxplot of Arrival delay\n",
    "#\n",
    "plt.boxplot([flights_new.ARRIVAL_DELAY])\n",
    "plt.xticks([1],['Arrival Delay'])\n",
    "plt.title('Boxplot for Arrival delay')\n",
    "plt.show()"
   ]
  },
  {
   "cell_type": "code",
   "execution_count": 39,
   "metadata": {},
   "outputs": [
    {
     "name": "stdout",
     "output_type": "stream",
     "text": [
      "45.25\n"
     ]
    }
   ],
   "source": [
    "# calculate IQR of arrival delay\n",
    "IQR = flights_new.ARRIVAL_DELAY.quantile(0.75) - flights_new.ARRIVAL_DELAY.quantile(0.25)\n",
    "print(IQR)"
   ]
  },
  {
   "cell_type": "code",
   "execution_count": 40,
   "metadata": {},
   "outputs": [],
   "source": [
    "# drop outlier record from arrival delay dependent variable. \n",
    "# After removing outlier record, a new dataframe is created in order to run code multiple time for diagnosis\n",
    "#\n",
    "flights_clean = flights_new.drop(flights_new[flights_new['ARRIVAL_DELAY']> (flights_new.ARRIVAL_DELAY.quantile(0.75) + 1.5* IQR)].index)"
   ]
  },
  {
   "cell_type": "code",
   "execution_count": 41,
   "metadata": {},
   "outputs": [
    {
     "data": {
      "text/plain": [
       "986"
      ]
     },
     "execution_count": 41,
     "metadata": {},
     "output_type": "execute_result"
    }
   ],
   "source": [
    "# nbr of records in dataset after removing outliers\n",
    "flights_clean.shape[0]"
   ]
  },
  {
   "cell_type": "code",
   "execution_count": 42,
   "metadata": {},
   "outputs": [],
   "source": [
    "y_log = np.log(flights_clean.ARRIVAL_DELAY)"
   ]
  },
  {
   "cell_type": "code",
   "execution_count": 43,
   "metadata": {},
   "outputs": [
    {
     "name": "stdout",
     "output_type": "stream",
     "text": [
      "                            OLS Regression Results                            \n",
      "==============================================================================\n",
      "Dep. Variable:          ARRIVAL_DELAY   R-squared:                       0.917\n",
      "Model:                            OLS   Adj. R-squared:                  0.916\n",
      "Method:                 Least Squares   F-statistic:                     2161.\n",
      "Date:                Wed, 26 Feb 2020   Prob (F-statistic):               0.00\n",
      "Time:                        18:26:09   Log-Likelihood:                 343.09\n",
      "No. Observations:                 986   AIC:                            -674.2\n",
      "Df Residuals:                     980   BIC:                            -644.8\n",
      "Df Model:                           5                                         \n",
      "Covariance Type:            nonrobust                                         \n",
      "=======================================================================================\n",
      "                          coef    std err          t      P>|t|      [0.025      0.975]\n",
      "---------------------------------------------------------------------------------------\n",
      "const                   2.7076      0.010    268.092      0.000       2.688       2.727\n",
      "LATE_AIRCRAFT_DELAY     0.0191      0.000     40.192      0.000       0.018       0.020\n",
      "AIRLINE_DELAY           0.0193      0.000     39.368      0.000       0.018       0.020\n",
      "AIR_SYSTEM_DELAY        0.0203      0.000     58.918      0.000       0.020       0.021\n",
      "WEATHER_DELAY           0.0195      0.001     28.038      0.000       0.018       0.021\n",
      "DEPARTURE_DELAY         0.0009      0.000      2.234      0.026       0.000       0.002\n",
      "==============================================================================\n",
      "Omnibus:                       36.792   Durbin-Watson:                   1.914\n",
      "Prob(Omnibus):                  0.000   Jarque-Bera (JB):               49.677\n",
      "Skew:                          -0.367   Prob(JB):                     1.63e-11\n",
      "Kurtosis:                       3.819   Cond. No.                         108.\n",
      "==============================================================================\n",
      "\n",
      "Warnings:\n",
      "[1] Standard Errors assume that the covariance matrix of the errors is correctly specified.\n"
     ]
    }
   ],
   "source": [
    "# fit regression model with statsmodels library to predict log value of arrival delay\n",
    "#\n",
    "X = flights_clean[['LATE_AIRCRAFT_DELAY', 'AIRLINE_DELAY', 'AIR_SYSTEM_DELAY', 'WEATHER_DELAY', 'DEPARTURE_DELAY']]\n",
    "X_int = sm.add_constant(X)\n",
    "linreg3 = sm.OLS(y_log, X_int).fit()\n",
    "print(linreg3.summary())"
   ]
  },
  {
   "cell_type": "code",
   "execution_count": 44,
   "metadata": {},
   "outputs": [
    {
     "data": {
      "text/plain": [
       "Text(0.5, 1.0, 'residuals vs fitted values(log scale)')"
      ]
     },
     "execution_count": 44,
     "metadata": {},
     "output_type": "execute_result"
    },
    {
     "data": {
      "image/png": "[encoded data removed]",
      "text/plain": [
       "<Figure size 432x288 with 1 Axes>"
      ]
     },
     "metadata": {
      "needs_background": "light"
     },
     "output_type": "display_data"
    }
   ],
   "source": [
    "plt.scatter(linreg3.fittedvalues, linreg3.resid)\n",
    "plt.xlabel('fitted values')\n",
    "plt.ylabel('residuals')\n",
    "plt.title('residuals vs fitted values(log scale)')"
   ]
  },
  {
   "cell_type": "code",
   "execution_count": 45,
   "metadata": {},
   "outputs": [
    {
     "data": {
      "text/plain": [
       "Text(0.5, 1.0, 'qq plot')"
      ]
     },
     "execution_count": 45,
     "metadata": {},
     "output_type": "execute_result"
    },
    {
     "data": {
      "image/png": "[encoded data removed]",
      "text/plain": [
       "<Figure size 432x288 with 1 Axes>"
      ]
     },
     "metadata": {
      "needs_background": "light"
     },
     "output_type": "display_data"
    }
   ],
   "source": [
    "fig = sm.qqplot(linreg3.resid)\n",
    "plt.title('qq plot')"
   ]
  },
  {
   "cell_type": "markdown",
   "metadata": {},
   "source": [
    "#### Perform model diagnostics. Did anything improve?"
   ]
  },
  {
   "cell_type": "markdown",
   "metadata": {},
   "source": [
    "With response variable transformed to log scale, there is improvement in qq plot which shows normality of error terms. Still it is not enough to conclude normality assumption of linearity.\n",
    "R-square value reduced to 0.917 (as compared to 0.99 in previous model), this is because reduction in number of predictor variables. F-statistics is also reduced as compared to previous model.\n",
    "Skew is reduced to -0.367 from 16.618"
   ]
  },
  {
   "cell_type": "markdown",
   "metadata": {},
   "source": [
    "#### Provide interpretations to a few of the coefficients. Do you think they make sense?"
   ]
  },
  {
   "cell_type": "markdown",
   "metadata": {},
   "source": [
    "Interpretations: keeping all other variables constant, if LATE_AIRCRAFT_DELAY is 1 min then arrival delay will be around 0.02 minutes. similarly if DEPARTURE_DELAY is increased by 1 minute then arrival delay will incease by 0.0009 minute. It does not make any sense since the response variable arraival delay is in log scale for the model."
   ]
  },
  {
   "cell_type": "code",
   "execution_count": 46,
   "metadata": {},
   "outputs": [],
   "source": [
    "# Calculate predicted y (yhat) and convert it from log scale to normal scale\n",
    "#\n",
    "yhat = linreg3.predict(X_int)\n",
    "predicted_y = np.exp(yhat)"
   ]
  },
  {
   "cell_type": "code",
   "execution_count": 47,
   "metadata": {},
   "outputs": [
    {
     "data": {
      "text/plain": [
       "Text(0.5, 1.0, 'residuals vs fitted values)')"
      ]
     },
     "execution_count": 47,
     "metadata": {},
     "output_type": "execute_result"
    },
    {
     "data": {
      "image/png": "[encoded data removed]",
      "text/plain": [
       "<Figure size 432x288 with 1 Axes>"
      ]
     },
     "metadata": {
      "needs_background": "light"
     },
     "output_type": "display_data"
    }
   ],
   "source": [
    "# sctterplot of residuals vs fitted values on normal scale\n",
    "#\n",
    "plt.scatter(predicted_y, flights_clean.ARRIVAL_DELAY - predicted_y)\n",
    "plt.xlabel('fitted values')\n",
    "plt.ylabel('residuals')\n",
    "plt.title('residuals vs fitted values)')"
   ]
  },
  {
   "cell_type": "code",
   "execution_count": 48,
   "metadata": {},
   "outputs": [
    {
     "data": {
      "image/png": "[encoded data removed]",
      "text/plain": [
       "<Figure size 432x288 with 1 Axes>"
      ]
     },
     "metadata": {
      "needs_background": "light"
     },
     "output_type": "display_data"
    }
   ],
   "source": [
    "fig = sm.qqplot(flights_clean.ARRIVAL_DELAY - predicted_y)"
   ]
  },
  {
   "cell_type": "markdown",
   "metadata": {},
   "source": [
    "To improve model further, stepwise regression should be done to add or remove variables from the model. \n",
    "\n",
    "Also from the data vizualisation we have seen that arrival delay has some pattern with time of day. It can be included in model to check if the model performance improve further. \n",
    "\n",
    "Day of week variable is an ordinal variable hence it should be converted to categorical varaible and its dummy variable can be added in model to study the effect of new variable in model further. \n",
    "\n",
    "Indicator variables Cancelled and Diverted should also be used to check their impact on arrival delay."
   ]
  }
 ],
 "metadata": {
  "kernelspec": {
   "display_name": "Python 3",
   "language": "python",
   "name": "python3"
  },
  "language_info": {
   "codemirror_mode": {
    "name": "ipython",
    "version": 3
   },
   "file_extension": ".py",
   "mimetype": "text/x-python",
   "name": "python",
   "nbconvert_exporter": "python",
   "pygments_lexer": "ipython3",
   "version": "3.7.3"
  }
 },
 "nbformat": 4,
 "nbformat_minor": 2
}
